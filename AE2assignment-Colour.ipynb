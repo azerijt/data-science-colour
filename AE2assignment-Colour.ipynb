{
 "cells": [
  {
   "cell_type": "markdown",
   "metadata": {},
   "source": [
    "# Abstract \n",
    "\n",
    "The goal of this project is to create a code for analysing colour difference through measuring Euclidean distance between RGB terms. The datasets used compare averaged RGB colours labelled by human perception to the X11 list of hundreds of predefined RGB values with unique colour labels.\n",
    "\n",
    "The first data set used is X11 developed by MIT for computer display systems [X11](https://www.w3schools.com/colors/colors_x11.asp)and the second from averages calculated from [colour naming] data (http://colournaming.org).\n",
    "m. \n",
    " I give a measurement of the difference between the X11 reference list and named colours by calculating the 3D Euclidean distance in x,y,z space between two RGB points [colour difference](https://en.wikipedia.org/wiki/Color_difference). This information is represented visually in a bar chart showing distances between RGB values between the datasets. I have also included a visual comparison for each representation of the user's colour terms. \n",
    "\n",
    "Finally, I calculate the complementary colours for each colour term for both versions. Complementary colours are considered a colours opposite since they cancel to white, so this provides a visual representation of difference for comparison.  \n",
    "\n",
    "My results indicate a gap between users recognition of colours and the X11 lists that is not consistent across colours. Further insight into these colour differences can be drawn by reference to the calculated complementary colours. I consider various interpretations of such a colour differece including language and the repective purposes of colour naming for humans and computers. \n"
   ]
  },
  {
   "cell_type": "markdown",
   "metadata": {},
   "source": [
    "## Keywords: colour naming, X11, python, colour difference, RGB"
   ]
  },
  {
   "cell_type": "markdown",
   "metadata": {},
   "source": [
    "## Introduction\n",
    "\n",
    "The aim of this project is to provide tools for measuring and analysing colour difference between two datasets. The data sets used here compare colour naming responses to colours to the X11 list used for computing. The results point to some differences between human and computer perception, and the arbitrariness of colour categories. The program gives a number of outputs that serve slightly different purposes, but all contribute to the goal of analysing and comparing the contents of two texts.\n",
    "\n",
    "\n"
   ]
  },
  {
   "cell_type": "markdown",
   "metadata": {},
   "source": [
    "# Methods\n",
    "The colour naming dataset consists of thousands of RGB values matched to colour terms by thousands of participants. Since each term is mapped to many values, I create a list based on the average RGB value for each term\n",
    "\n",
    "\n",
    "The project mainly makes use of numpy arrays as data structures to represent colours terms respective to RGB values as they allow data to be represented in 3 dimensions, which is useful for mapping RGB triplets and measuring colour difference with a 3D euclidean distance function that takes 2 arrays as arguments. They also allow for faster performance of calculations. My results include a time calculation to demonstrate this. \n",
    "\n",
    "I also create a dictionary for the X11 values, that allows for RGB values to be accessed by their corresponding name. There is a possibility to develop the code to include a random generator of colour terms that picks values from these sets but is space constrained. \n",
    "\n",
    "I import various modules including pandas and numpy for multidimensional data structures, matplotlib for graphs and PIL to create images from numpy arrays of RGB values.\n",
    "\n",
    "An explanation and account of further methods will be interspersed into code in both comments and text boxes."
   ]
  },
  {
   "cell_type": "code",
   "execution_count": 57,
   "metadata": {},
   "outputs": [],
   "source": [
    "#import modules for later use\n",
    "import pandas as pd, numpy as np, os\n",
    "import matplotlib.pyplot as plt\n",
    "import time\n",
    "import string\n",
    "from PIL import Image\n",
    "%matplotlib inline"
   ]
  },
  {
   "cell_type": "code",
   "execution_count": 58,
   "metadata": {},
   "outputs": [],
   "source": [
    "#define functions to call later in code\n",
    "def dict_triplets(file):\n",
    "    \n",
    "    \"\"\" opens relevant sections of csv into a DataFrame and returns a dictionary of RGB\n",
    "    terms as values with colour names as keys cleaned for analysis\"\"\"\n",
    "    x11 = pd.read_csv(file, usecols= ['colour_name','R', 'G', 'B'])\n",
    "    x11_dict_triplets = x11.set_index('colour_name').T.to_dict('list')\n",
    "    translator = str.maketrans({' ': ''})\n",
    "    x11_dict_triplets = dict((k.lower().translate(translator), v) for k, v in x11_dict_triplets.items()) \n",
    "    \n",
    "    return x11_dict_triplets\n",
    "    \n",
    "\n",
    "def means(df, word):\n",
    "    \"\"\"creates an array of for known words and mean RGB values \"\"\"\n",
    "    sub = df[df['colour_name'].isin([word])]\n",
    "    meanRGB = [sub.R.mean(), sub.G.mean(), sub.B.mean()]\n",
    "   \n",
    "    \n",
    "\n",
    "    return meanRGB\n",
    "\n",
    "def euclidist3D(ary1,ary2):\n",
    "       \n",
    "    \"\"\"Caculates 3D euclidean distances using slices to identify R, G & Bs from two arrays \"\"\" \n",
    "    de = np.sqrt((np.square(ary1[:,0] - ary2[:,0]))\n",
    "    + np.square(ary1[:,1]- ary2[:,1])\n",
    "    + np.square(ary1[:,2] - ary2[:,2]))\n",
    "    return de\n",
    "\n",
    "\n",
    "def timer(ary1, ary2):\n",
    "    \"\"\" times how long it takes to calculate the euc distances with \n",
    "    time module and by calling euclidist3D\"\"\"\n",
    "    start = time.perf_counter()\n",
    "    de1 = euclidist3D(ary1,ary2)\n",
    "    end = time.perf_counter()\n",
    "    time_perf = end - start\n",
    "    return time_perf\n",
    "\n",
    "\n",
    "def check_distance(de):\n",
    "    \"\"\"The rounded euclid distance between X11 and rgb values\n",
    "    for default settings should equal to 92\"\"\"\n",
    "    rde = int(round(np.mean(de)))\n",
    "    assert(rde == 92), 'Something wrong, should be 92'\n",
    "    return 'All Good! distance is',rde\n",
    "\n",
    "def subtract(ary1,ary2):\n",
    "    \"\"\" subtract one array from another\"\"\"\n",
    "    de = ary1 - ary2\n",
    "    return de\n",
    "\n",
    "def makeimage(rgb1, rgb2):\n",
    "    '''creates images comparing colours '''\n",
    "    plt.figure ()\n",
    "    image_ary = np.zeros([100, 200, 3], dtype=np.uint8)\n",
    "\n",
    "    image_ary[50::] = [rgb1] # Yellow left side MAKE IT TOP BOTTOMW\n",
    "    image_ary[:50:] = [rgb2]   # Blue right side\n",
    "    img = Image.fromarray(image_ary)\n",
    "    \n",
    "    plt.imshow(img)\n",
    "    plt.axis('off')\n",
    "    plt.savefig('colour_pair.png')\n",
    "    return img"
   ]
  },
  {
   "cell_type": "markdown",
   "metadata": {},
   "source": [
    "### Setting colour terms \n",
    "\n",
    "I give a default list of colour terms including two non-colours that will not appear in the data set. I give the user the option to use default or add their own terms up to 14 terms. I clean the data so that the terms are consistent with the terms from the datasets."
   ]
  },
  {
   "cell_type": "code",
   "execution_count": 59,
   "metadata": {},
   "outputs": [
    {
     "name": "stdout",
     "output_type": "stream",
     "text": [
      "use default terms? (y/n)y\n"
     ]
    }
   ],
   "source": [
    "#words\n",
    "cterms = ['white', 'black', 'red', 'yellow', 'blue', 'green', 'brown', 'purple', 'orange', 'pink', 'lorem', 'ipsum']\n",
    "\n",
    "    \n",
    "    #create own list of terms \n",
    "terms  = input('use default terms? (y/n)')\n",
    "\n",
    "if terms == 'n':\n",
    "    cterms = []\n",
    "   \n",
    "    while len(cterms)<14:\n",
    "            \n",
    "        a = input(\"Ok, Enter a colour term (input colour terms without spaces):\")\n",
    "        cterms.append(a)\n",
    "        if a == 'done': break\n",
    "    \n",
    "    \n",
    "    \n",
    "cterms = [x.lower().strip() for x in cterms]\n",
    "\n",
    "# removes empty values, though empty values would not find a match in datasets it is neater\n",
    "# provides two ways for user to input less than 14 colours (either enter done or leave blank boxes)\n",
    "while '' in cterms:\n",
    "    cterms.remove('')\n",
    "\n"
   ]
  },
  {
   "cell_type": "markdown",
   "metadata": {},
   "source": [
    "### Loading Files & Locating Terms "
   ]
  },
  {
   "cell_type": "code",
   "execution_count": 60,
   "metadata": {},
   "outputs": [],
   "source": [
    "file = '/Users/user/Desktop/python/rgb_x11.csv'\n",
    "\n",
    "#Calling dict_triplets to create a dictionary from X11 values from file path\n",
    "x11_dict_triplets = (dict_triplets(file))\n",
    "#could use this dictionary to create a list of random terms\n",
    "\n",
    "# opens RGB colour data into a data frame data frame \n",
    "rgbdata = pd.read_csv('data.csv', usecols = ['colour_name', 'R', 'G', 'B'])\n",
    "#clean data\n",
    "rgbdata.colour_name = rgbdata.colour_name.str.lower().str.strip().str.replace('-', ' ')\n",
    "\n",
    "\n",
    "#List comprehension for user's terms in both sets of data\n",
    "known_cterms = [word for word in cterms if word in rgbdata.colour_name.values and word in x11_dict_triplets.keys() ]\n",
    "unkown_cterms = [word for word in cterms if word not in rgbdata.colour_name.values or word not in x11_dict_triplets.keys()]\n",
    "\n"
   ]
  },
  {
   "cell_type": "code",
   "execution_count": 61,
   "metadata": {},
   "outputs": [],
   "source": [
    "# call function and populate an array and create a dataframe from it\n",
    "\n",
    "#labels = ['R', 'G', 'B']\n",
    "#puts values into an array with dimensions length cterms, and (3)\n",
    "\n",
    "meanRGB_ary = np.zeros((len(known_cterms),3))\n",
    "\n",
    "#fills with mean values of known terms\n",
    "for row,column in enumerate (known_cterms):\n",
    "    meanRGB_ary[row]=means(rgbdata,column)\n",
    "\n",
    "#dataframe add headings and data\n",
    "RGBtable = pd.DataFrame(meanRGB_ary , columns = ['R','G','B'])\n",
    "RGBtable.insert(0, \"colour_name\", known_cterms)\n",
    "\n",
    "#make array, fill with cterms\n",
    "#loop through known cterms add values\n",
    "# make an array from x11 dictionary triplets so individual RGBs can be located for euclid\n",
    "\n",
    "#why array rather than data frame??\n",
    "cterms_ary = np.zeros((len(known_cterms),3))\n",
    "for idx,name in enumerate (known_cterms):\n",
    "    cterms_ary[idx]=x11_dict_triplets[name][0:3]\n"
   ]
  },
  {
   "cell_type": "markdown",
   "metadata": {},
   "source": [
    "# Analysis & Visualisations"
   ]
  },
  {
   "cell_type": "markdown",
   "metadata": {},
   "source": [
    "### Calculating Euclidean Distance in 3D\n",
    "Here I use arrays created above to pass into the Euclidist3D function. I create an array of colours for use in functions as well as a dictionary to map results to their respective keys. I also use the timer function to give the speed of the calculation. "
   ]
  },
  {
   "cell_type": "code",
   "execution_count": 62,
   "metadata": {},
   "outputs": [
    {
     "name": "stdout",
     "output_type": "stream",
     "text": [
      "Found matches for 10 out of 12 terms:\n",
      "Found these terms: ['white', 'black', 'red', 'yellow', 'blue', 'green', 'brown', 'purple', 'orange', 'pink']\n",
      "Could not locate these terms: ['lorem', 'ipsum']\n",
      "These are the values for the euclidist: {'white': 50.145853028577754, 'black': 46.33544715435278, 'red': 96.25679143810677, 'yellow': 91.98228963582174, 'blue': 145.99160821937625, 'green': 157.55386108133595, 'brown': 59.62744668321111, 'purple': 104.71006013918593, 'orange': 77.08833817525755, 'pink': 91.61385989525076}.\n",
      "It took 5.822800085297786e-05 seconds to complete your task\n"
     ]
    }
   ],
   "source": [
    "\n",
    "\n",
    "#calls function to caculate Euclidean distance between terms \n",
    "euc = (euclidist3D(meanRGB_ary, cterms_ary))\n",
    "\n",
    "\n",
    "#IF DEFAULT - AUTOMATIC TEST\n",
    "#this only works on default terms so have put into if clause \n",
    "if terms == 'y':\n",
    "    check_distance(euc)\n",
    "\n",
    "\n",
    "#a dictionary of colour terms as keys and euclidist as values put into a dictionary using dict & zip\n",
    "# zip with colour labels into a dictionary to display distances for each colour\n",
    "zippy_euc = dict(zip(known_cterms, euc))\n",
    "print(f'Found matches for {len(known_cterms)} out of {len(cterms)} terms:')\n",
    "print(f'Found these terms: {known_cterms}')\n",
    "print(f'Could not locate these terms: {unkown_cterms}')\n",
    "\n",
    "print(f'These are the values for the euclidist: {zippy_euc}.')\n",
    "#Call time function\n",
    "print(f'It took {timer(meanRGB_ary, cterms_ary)} seconds to complete your task')"
   ]
  },
  {
   "cell_type": "markdown",
   "metadata": {},
   "source": [
    "## Visualisations \n",
    "In this section I create multiple visulations of colour difference.\n",
    "## Euclidean Distance between X11 and averaged values\n"
   ]
  },
  {
   "cell_type": "code",
   "execution_count": 63,
   "metadata": {},
   "outputs": [
    {
     "data": {
      "text/plain": [
       "<Figure size 720x864 with 0 Axes>"
      ]
     },
     "execution_count": 63,
     "metadata": {},
     "output_type": "execute_result"
    },
    {
     "data": {
      "image/png": "[encoded data removed]",
      "text/plain": [
       "<Figure size 432x288 with 1 Axes>"
      ]
     },
     "metadata": {
      "needs_background": "light"
     },
     "output_type": "display_data"
    },
    {
     "data": {
      "text/plain": [
       "<Figure size 720x864 with 0 Axes>"
      ]
     },
     "metadata": {},
     "output_type": "display_data"
    }
   ],
   "source": [
    "#make sure the same length \n",
    "assert len(RGBtable) == len(cterms_ary), 'should be the same size'\n",
    "\n",
    "#using matplotlib create a bar chart for terms and euclidean distances \n",
    "#labels from known cterms and values from calculated euc array\n",
    "plt.bar(known_cterms, euc, color = known_cterms, edgecolor='black')\n",
    "\n",
    "plt.xlabel('Colour Terms',fontweight='bold', color= 'darkmagenta')\n",
    "\n",
    "plt.title('Euclid Distance mean RGB values to x11 reference',fontweight='bold', color= 'indigo')\n",
    "\n",
    "plt.ylabel('3D Distance' ,fontweight='bold', color= 'darkmagenta')\n",
    "#increase size\n",
    "plt.figure(figsize=(10,12))"
   ]
  },
  {
   "cell_type": "markdown",
   "metadata": {},
   "source": [
    "### Results of difference measure\n",
    "\n",
    "I create a bar chart visualising Euclidean distance using the arrays created above using matplotlib with colour terms as colours for the bars. The greater the distance, the greater the difference between terms. We should see this reflected in the colour comparison squares below. In the default settings, we can see that the difference between X11 and named colours is greatest between green and blue. This could be attributed to an unclear boundary between blue and green. This optical illusion gives a good example of how the distinction of blue and green could be unobvious to a perceiver (what looks blue and green in the image is actually the same colour). \n",
    "We can also see that black and white show the least variance. This would seem intuitively true, since these two colour concepts are well defined, black being the absence of colour and white the result of equal measures of blue, red and green cancelling out. \n",
    "These facts should also be reflected in the side by side visualisations below.\n",
    "\n",
    "![image](https://images.ctfassets.net/cnu0m8re1exe/48c5kz3TqMCYHMomIi5R9Y/e40a49b14a0dd8b821ceec8ab04f362c/colors.gif?w=650)\n",
    "\n",
    "\n",
    "\n",
    " "
   ]
  },
  {
   "cell_type": "markdown",
   "metadata": {},
   "source": [
    "# Visualising Colour Difference (EucDist)\n",
    "\n",
    "I provide visualisations of the differences measured above by filling the top half of an image with X11 and the bottom with averaged values.\n",
    "\n",
    "The results visually present the distance measured by euclidean distance. While each box displays a clear difference between the colours, it is difficult to perceive through colours alone the degrees of similarity for each. So measuring by euclidean distance is a more objective way to examine the difference. This also points to the limitations in human perception discussed above. "
   ]
  },
  {
   "cell_type": "code",
   "execution_count": 64,
   "metadata": {},
   "outputs": [
    {
     "name": "stdout",
     "output_type": "stream",
     "text": [
      "<PIL.Image.Image image mode=RGB size=200x100 at 0x7FE42A594E80>\n",
      "<PIL.Image.Image image mode=RGB size=200x100 at 0x7FE42B314760>\n",
      "<PIL.Image.Image image mode=RGB size=200x100 at 0x7FE42A855760>\n",
      "<PIL.Image.Image image mode=RGB size=200x100 at 0x7FE42B086B80>\n",
      "<PIL.Image.Image image mode=RGB size=200x100 at 0x7FE42B3343A0>\n",
      "<PIL.Image.Image image mode=RGB size=200x100 at 0x7FE42A098AF0>\n",
      "<PIL.Image.Image image mode=RGB size=200x100 at 0x7FE42B357310>\n",
      "<PIL.Image.Image image mode=RGB size=200x100 at 0x7FE42B34BD00>\n",
      "<PIL.Image.Image image mode=RGB size=200x100 at 0x7FE42AA150D0>\n",
      "<PIL.Image.Image image mode=RGB size=200x100 at 0x7FE42A939F70>\n"
     ]
    },
    {
     "data": {
      "image/png": "[encoded data removed]",
      "text/plain": [
       "<Figure size 432x288 with 1 Axes>"
      ]
     },
     "metadata": {
      "needs_background": "light"
     },
     "output_type": "display_data"
    },
    {
     "data": {
      "image/png": "[encoded data removed]",
      "text/plain": [
       "<Figure size 432x288 with 1 Axes>"
      ]
     },
     "metadata": {
      "needs_background": "light"
     },
     "output_type": "display_data"
    },
    {
     "data": {
      "image/png": "[encoded data removed]",
      "text/plain": [
       "<Figure size 432x288 with 1 Axes>"
      ]
     },
     "metadata": {
      "needs_background": "light"
     },
     "output_type": "display_data"
    },
    {
     "data": {
      "image/png": "[encoded data removed]",
      "text/plain": [
       "<Figure size 432x288 with 1 Axes>"
      ]
     },
     "metadata": {
      "needs_background": "light"
     },
     "output_type": "display_data"
    },
    {
     "data": {
      "image/png": "[encoded data removed]",
      "text/plain": [
       "<Figure size 432x288 with 1 Axes>"
      ]
     },
     "metadata": {
      "needs_background": "light"
     },
     "output_type": "display_data"
    },
    {
     "data": {
      "image/png": "[encoded data removed]",
      "text/plain": [
       "<Figure size 432x288 with 1 Axes>"
      ]
     },
     "metadata": {
      "needs_background": "light"
     },
     "output_type": "display_data"
    },
    {
     "data": {
      "image/png": "[encoded data removed]",
      "text/plain": [
       "<Figure size 432x288 with 1 Axes>"
      ]
     },
     "metadata": {
      "needs_background": "light"
     },
     "output_type": "display_data"
    },
    {
     "data": {
      "image/png": "[encoded data removed]",
      "text/plain": [
       "<Figure size 432x288 with 1 Axes>"
      ]
     },
     "metadata": {
      "needs_background": "light"
     },
     "output_type": "display_data"
    },
    {
     "data": {
      "image/png": "[encoded data removed]",
      "text/plain": [
       "<Figure size 432x288 with 1 Axes>"
      ]
     },
     "metadata": {
      "needs_background": "light"
     },
     "output_type": "display_data"
    },
    {
     "data": {
      "image/png": "[encoded data removed]",
      "text/plain": [
       "<Figure size 432x288 with 1 Axes>"
      ]
     },
     "metadata": {
      "needs_background": "light"
     },
     "output_type": "display_data"
    }
   ],
   "source": [
    "#Make Pretty colours \n",
    "#creates arrays ordered by term but removes name to pass into the makeimage function\n",
    "\n",
    "assert len(cterms_ary) == len(meanRGB_ary), 'lists must be equal'\n",
    "        \n",
    "#plt.savefig('colour_pair.png')    \n",
    "\n",
    "\n",
    "#iterate through RGBavg and X11 arrays calling make image function \n",
    "# because this function call iterates through so much data to create many images it is noticably slow\n",
    "\n",
    "for idx, name in enumerate(meanRGB_ary):\n",
    "    \n",
    "    print(makeimage(name, cterms_ary[idx]))\n"
   ]
  },
  {
   "cell_type": "markdown",
   "metadata": {},
   "source": [
    "## Complementary colours for X11\n",
    "\n",
    "I have adapted the code to search for complementary colours. I do this by creating an array filled with the RGB values for white and subtracting each RGB from it, since complementary colours cancel out to make white. They are opposites because of this property, so give a good visual representation of colour difference. This code could help artists and designers pick colour schemes.\n"
   ]
  },
  {
   "cell_type": "code",
   "execution_count": 76,
   "metadata": {},
   "outputs": [
    {
     "name": "stdout",
     "output_type": "stream",
     "text": [
      "<PIL.Image.Image image mode=RGB size=200x100 at 0x7FE42AAB8EB0>\n",
      "<PIL.Image.Image image mode=RGB size=200x100 at 0x7FE42B657AC0>\n",
      "<PIL.Image.Image image mode=RGB size=200x100 at 0x7FE4295491F0>\n",
      "<PIL.Image.Image image mode=RGB size=200x100 at 0x7FE42A35CA60>\n",
      "<PIL.Image.Image image mode=RGB size=200x100 at 0x7FE42A0A0850>\n",
      "<PIL.Image.Image image mode=RGB size=200x100 at 0x7FE42A640E20>\n",
      "<PIL.Image.Image image mode=RGB size=200x100 at 0x7FE42A9FF670>\n",
      "<PIL.Image.Image image mode=RGB size=200x100 at 0x7FE42A67DDF0>\n",
      "<PIL.Image.Image image mode=RGB size=200x100 at 0x7FE42A35E6A0>\n",
      "<PIL.Image.Image image mode=RGB size=200x100 at 0x7FE42AA157C0>\n",
      "[441.67295593 441.67295593 441.67295593 441.67295593 441.67295593\n",
      " 441.67295593 253.19360181 302.21019175 368.34087473 323.2135517 ]\n"
     ]
    },
    {
     "data": {
      "image/png": "[encoded data removed]",
      "text/plain": [
       "<Figure size 432x288 with 1 Axes>"
      ]
     },
     "metadata": {
      "needs_background": "light"
     },
     "output_type": "display_data"
    },
    {
     "data": {
      "image/png": "[encoded data removed]",
      "text/plain": [
       "<Figure size 432x288 with 1 Axes>"
      ]
     },
     "metadata": {
      "needs_background": "light"
     },
     "output_type": "display_data"
    },
    {
     "data": {
      "image/png": "[encoded data removed]",
      "text/plain": [
       "<Figure size 432x288 with 1 Axes>"
      ]
     },
     "metadata": {
      "needs_background": "light"
     },
     "output_type": "display_data"
    },
    {
     "data": {
      "image/png": "[encoded data removed]",
      "text/plain": [
       "<Figure size 432x288 with 1 Axes>"
      ]
     },
     "metadata": {
      "needs_background": "light"
     },
     "output_type": "display_data"
    },
    {
     "data": {
      "image/png": "[encoded data removed]",
      "text/plain": [
       "<Figure size 432x288 with 1 Axes>"
      ]
     },
     "metadata": {
      "needs_background": "light"
     },
     "output_type": "display_data"
    },
    {
     "data": {
      "image/png": "[encoded data removed]",
      "text/plain": [
       "<Figure size 432x288 with 1 Axes>"
      ]
     },
     "metadata": {
      "needs_background": "light"
     },
     "output_type": "display_data"
    },
    {
     "data": {
      "image/png": "[encoded data removed]",
      "text/plain": [
       "<Figure size 432x288 with 1 Axes>"
      ]
     },
     "metadata": {
      "needs_background": "light"
     },
     "output_type": "display_data"
    },
    {
     "data": {
      "image/png": "[encoded data removed]",
      "text/plain": [
       "<Figure size 432x288 with 1 Axes>"
      ]
     },
     "metadata": {
      "needs_background": "light"
     },
     "output_type": "display_data"
    },
    {
     "data": {
      "image/png": "[encoded data removed]",
      "text/plain": [
       "<Figure size 432x288 with 1 Axes>"
      ]
     },
     "metadata": {
      "needs_background": "light"
     },
     "output_type": "display_data"
    },
    {
     "data": {
      "image/png": "[encoded data removed]",
      "text/plain": [
       "<Figure size 432x288 with 1 Axes>"
      ]
     },
     "metadata": {
      "needs_background": "light"
     },
     "output_type": "display_data"
    }
   ],
   "source": [
    "#making squares of complementary colours: complementary colours add to 255 and cancel each other out to make white\n",
    "#so make a data frame of white (255,255,255) and subtract RGB of colours to find their complement\n",
    "white_ary = np.zeros((len(known_cterms),3))\n",
    "for idx,name in enumerate (known_cterms):\n",
    "    white_ary[idx]=255\n",
    "\n",
    "#arrays for the complementary terms, both of X11 and users choice; \n",
    "#option here to add code to return names and values \n",
    "#call subtract function\n",
    "complement_ary_x11 = subtract(white_ary, cterms_ary)\n",
    "complement_ary = subtract(white_ary, meanRGB_ary)\n",
    "\n",
    "#iterate through complementary X11 values and map to their corresponding term in the array  \n",
    "# call makeimage funciton\n",
    "for idx, name in enumerate(complement_ary_x11):\n",
    "    print(makeimage(name, cterms_ary[idx]))\n",
    "\n",
    "print(euclidist3D(complement_ary_x11, cterms_ary))\n"
   ]
  },
  {
   "cell_type": "code",
   "execution_count": 66,
   "metadata": {},
   "outputs": [
    {
     "name": "stdout",
     "output_type": "stream",
     "text": [
      "<PIL.Image.Image image mode=RGB size=200x100 at 0x7FE42B1B5490>\n",
      "<PIL.Image.Image image mode=RGB size=200x100 at 0x7FE42B4AD460>\n",
      "<PIL.Image.Image image mode=RGB size=200x100 at 0x7FE42A18B6D0>\n",
      "<PIL.Image.Image image mode=RGB size=200x100 at 0x7FE42A188790>\n",
      "<PIL.Image.Image image mode=RGB size=200x100 at 0x7FE42C669940>\n",
      "<PIL.Image.Image image mode=RGB size=200x100 at 0x7FE429F92A60>\n",
      "<PIL.Image.Image image mode=RGB size=200x100 at 0x7FE42ACA06A0>\n",
      "<PIL.Image.Image image mode=RGB size=200x100 at 0x7FE42A9E9850>\n",
      "<PIL.Image.Image image mode=RGB size=200x100 at 0x7FE42A656820>\n",
      "<PIL.Image.Image image mode=RGB size=200x100 at 0x7FE42AAE2BE0>\n",
      "[342.44373555 349.25533367 262.4187921  270.43876261 164.95808714\n",
      " 133.4537581  220.56489396 149.65117611 234.21967066 210.9160987 ]\n"
     ]
    },
    {
     "data": {
      "image/png": "[encoded data removed]",
      "text/plain": [
       "<Figure size 432x288 with 1 Axes>"
      ]
     },
     "metadata": {
      "needs_background": "light"
     },
     "output_type": "display_data"
    },
    {
     "data": {
      "image/png": "[encoded data removed]",
      "text/plain": [
       "<Figure size 432x288 with 1 Axes>"
      ]
     },
     "metadata": {
      "needs_background": "light"
     },
     "output_type": "display_data"
    },
    {
     "data": {
      "image/png": "[encoded data removed]",
      "text/plain": [
       "<Figure size 432x288 with 1 Axes>"
      ]
     },
     "metadata": {
      "needs_background": "light"
     },
     "output_type": "display_data"
    },
    {
     "data": {
      "image/png": "[encoded data removed]",
      "text/plain": [
       "<Figure size 432x288 with 1 Axes>"
      ]
     },
     "metadata": {
      "needs_background": "light"
     },
     "output_type": "display_data"
    },
    {
     "data": {
      "image/png": "[encoded data removed]",
      "text/plain": [
       "<Figure size 432x288 with 1 Axes>"
      ]
     },
     "metadata": {
      "needs_background": "light"
     },
     "output_type": "display_data"
    },
    {
     "data": {
      "image/png": "[encoded data removed]",
      "text/plain": [
       "<Figure size 432x288 with 1 Axes>"
      ]
     },
     "metadata": {
      "needs_background": "light"
     },
     "output_type": "display_data"
    },
    {
     "data": {
      "image/png": "[encoded data removed]",
      "text/plain": [
       "<Figure size 432x288 with 1 Axes>"
      ]
     },
     "metadata": {
      "needs_background": "light"
     },
     "output_type": "display_data"
    },
    {
     "data": {
      "image/png": "[encoded data removed]",
      "text/plain": [
       "<Figure size 432x288 with 1 Axes>"
      ]
     },
     "metadata": {
      "needs_background": "light"
     },
     "output_type": "display_data"
    },
    {
     "data": {
      "image/png": "[encoded data removed]",
      "text/plain": [
       "<Figure size 432x288 with 1 Axes>"
      ]
     },
     "metadata": {
      "needs_background": "light"
     },
     "output_type": "display_data"
    },
    {
     "data": {
      "image/png": "[encoded data removed]",
      "text/plain": [
       "<Figure size 432x288 with 1 Axes>"
      ]
     },
     "metadata": {
      "needs_background": "light"
     },
     "output_type": "display_data"
    }
   ],
   "source": [
    "#Again for RGB averages \n",
    "for idx, name in enumerate(complement_ary):\n",
    "    \n",
    "    print(makeimage(name, meanRGB_ary[idx]))\n",
    "print(euclidist3D(complement_ary, meanRGB_ary))\n"
   ]
  },
  {
   "cell_type": "markdown",
   "metadata": {},
   "source": [
    "## Results\n",
    "\n",
    "This representation also exposes some of the differences in computer vs human colour identification. The computational colours might express a more objective relationship, this must be balanced against human colour perception. Though subjective, human perception represents actual colour experience and is highly context dependent. \n",
    "\n",
    "For example, the relationships between colours and their opposites for X11 colours shows a closer mathematical relationship between basic colours than the averages. This is evident in the fact that the complementary colours for white, black, yellow, blue are the inverse of the other, whereas this relationship is not maintained for human colour averages. Contrasting colours with their opposite reveals more information about the make up of the colours. For example, on a test with khaki, the computer value looks more yellow when compared to its opposite, a darker blue, but a lighter shade of khaki when compared to human averages.\n",
    "\n",
    "This reveals information about human colour perception that understands colours in context. The perceived colour changes when displayed next to other colours as it brings out different underlying hues. This effect cannot be accounted for by a simple computational understanding of colours. \n"
   ]
  },
  {
   "cell_type": "markdown",
   "metadata": {},
   "source": [
    "# Implications and Conclusions \n",
    "\n",
    "\n",
    "This report is based on an analysis using data science techniques. It is therefore important to consider the implications of this. The techniques used provide an insight into the patterns and relationships between colours based on the difference between RGB values. The nature of this analysis means that patterns can be drawn, but that causal factors for the difference must be attributed by human analysis of the patterns. Many factors might be inferred from the observed difference, but this inference is not guaranteed to be correct. \n",
    "\n",
    "The purpose of colour naming is relevant to which RGB values map to terms. For example, the X11 colour reference list has been developed for computer display systems, so must map fine-grained, unique colours and names. The colour naming set, on the other hand, is based on averages calculated from humans naming colours. The human named colours are generally less 'pure' on account of this, since this colour labelling is based on broad labels for each colour, the average includes a range of points. It is also likely that people use colour terms differently for a more general purpose of colour identification and communication, so each general term will refer to a wider range of colours. An artist, for example, might have a wider range of used colour terms where finer-grained colour distinctions are required. \n",
    "\n",
    "Colour naming categories are also not uniform between languages. Some languages divide the colour spectrum differently, which might have an impact on how colours are perceived. For example, in Russian, light blue and dark blue have distinct colour names [голубой, синий - colour discrimination](https://www.pnas.org/content/104/19/7780), that is shown to have an impact on colour identification. Colours that occur on the boundary of two basic colours are much harder to identify, and this effect is translated where languages like Russian contain extra basic colour terms.\n",
    "\n",
    "\n"
   ]
  },
  {
   "cell_type": "markdown",
   "metadata": {},
   "source": [
    "# Ethical Considerations, possible unintended consequences\n",
    "\n",
    "Here I will briefly address some of the ethical implications of this code. Using data sets to draw conclusions in data science is illuminating but inherently limited. As referenced above, patterns illuminated by data analysis must be explained by humans and there are likely several explanations that underlie the patterns. It also requires that colours be separated into distinct categories along some lines, which must be artificially drawn. \n",
    "\n",
    "This code could be implemented as a language test, identifying the distance between the leaner's colour name and the RGB reference for that colour. Since the categorisation of colours is both arbitrary and also language dependent, it is possible that such a test misidentifies incorrectly named colours, which could lead to unfair results. \n",
    "\n",
    "Using the generated complementary colours might also lead to undesirable results without additional human judgement. Complementary colours are meant to provide the strongest contrast because they are opposites, so using them together can make visually obvious distinctions. However, for some examples, it is not so clear to a perceiver. If they are blindly followed for design purposes to highlight important information, like in a stop sign, some of this effect might be lost with potential consequences.\n",
    "\n",
    "A larger dataset should theoretically be more accurate; however it is difficult to control when colour separations are fairly arbitrary and many terms can map to many colours and vice versa. The result of this is that a computer may not be able to express the kind of judgement that humans can when it comes to overlapping colours"
   ]
  },
  {
   "cell_type": "markdown",
   "metadata": {},
   "source": [
    "# References\n",
    "resources\n",
    "\n",
    "\n",
    "• include: Complementary colours subtract from 180\n",
    "• some random websites you can say helped you \n",
    "• reference to dimis colour naming website \n",
    "• numpy and pandas library guidelines \n",
    "• reference to ethics of data science \n",
    "• reference the colour vision thing\n"
   ]
  },
  {
   "cell_type": "code",
   "execution_count": 75,
   "metadata": {
    "scrolled": true
   },
   "outputs": [
    {
     "name": "stdout",
     "output_type": "stream",
     "text": [
      " Words in MarkDown: 1747\n",
      " Words in Headings: 16\n",
      " Words in code: 985\n",
      "2748\n"
     ]
    }
   ],
   "source": [
    "import io\n",
    "from nbformat import current\n",
    "filepath = \"AE2assignment.ipynb\"\n",
    "with io.open(filepath, 'r', encoding='utf-8') as f:\n",
    "    nb = current.read(f, 'json')\n",
    "#markdown count\n",
    "md_count = 0\n",
    "for cell in nb.worksheets[0].cells:\n",
    "    if cell.cell_type == \"markdown\":\n",
    "        md_count += len(cell['source'].strip().split())\n",
    "print(f' Words in MarkDown: {md_count}')\n",
    "#heading count\n",
    "head_count = 0\n",
    "for cell in nb.worksheets[0].cells:\n",
    "    if cell.cell_type == \"heading\":\n",
    "        head_count += len(cell['source'].replace('#', '').strip().split())\n",
    "print(f' Words in Headings: {head_count}')\n",
    "#codecount\n",
    "code_count = 0\n",
    "for cell in nb.worksheets[0].cells:\n",
    "    if cell.cell_type == \"code\":\n",
    "        code_count += len(cell['input'].replace('#', '').strip().split())\n",
    "print(f' Words in code: {code_count}')\n",
    "print(code_count + head_count + md_count)"
   ]
  },
  {
   "cell_type": "code",
   "execution_count": null,
   "metadata": {},
   "outputs": [],
   "source": []
  }
 ],
 "metadata": {
  "kernelspec": {
   "display_name": "Python 3",
   "language": "python",
   "name": "python3"
  },
  "language_info": {
   "codemirror_mode": {
    "name": "ipython",
    "version": 3
   },
   "file_extension": ".py",
   "mimetype": "text/x-python",
   "name": "python",
   "nbconvert_exporter": "python",
   "pygments_lexer": "ipython3",
   "version": "3.8.3"
  }
 },
 "nbformat": 4,
 "nbformat_minor": 4
}
